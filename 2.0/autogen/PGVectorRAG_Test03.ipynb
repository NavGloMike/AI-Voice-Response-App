{
 "cells": [
  {
   "cell_type": "markdown",
   "id": "7ba49f59-e8f5-49f1-abb0-8b8ab8117165",
   "metadata": {},
   "source": [
    "### PGVector RAG Tool for Question Answering - RAGwithAutogenTools\n",
    "\n",
    "https://microsoft.github.io/autogen/0.2/docs/notebooks/agentchat_RetrieveChat_pgvector/"
   ]
  },
  {
   "cell_type": "code",
   "execution_count": 1,
   "id": "aa1ec7c8-3c97-4edb-ac62-78b4971cd03b",
   "metadata": {},
   "outputs": [
    {
     "name": "stderr",
     "output_type": "stream",
     "text": [
      "/usr/local/Cellar/jupyterlab/4.2.1/libexec/lib/python3.12/site-packages/tqdm/auto.py:21: TqdmWarning: IProgress not found. Please update jupyter and ipywidgets. See https://ipywidgets.readthedocs.io/en/stable/user_install.html\n",
      "  from .autonotebook import tqdm as notebook_tqdm\n",
      "flaml.automl is not available. Please install flaml[automl] to enable AutoML functionalities.\n"
     ]
    }
   ],
   "source": [
    "from dotenv import load_dotenv\n",
    "load_dotenv() \n",
    "import numpy as np\n",
    "import pandas as pd\n",
    "import json\n",
    "import os\n",
    "import openai\n",
    "import time\n",
    "from openai import AzureOpenAI\n",
    "import chromadb\n",
    "import psycopg\n",
    "from sentence_transformers import SentenceTransformer\n",
    "import autogen\n",
    "from autogen import AssistantAgent\n",
    "from autogen.agentchat.contrib.retrieve_user_proxy_agent import RetrieveUserProxyAgent\n",
    "from autogen import ConversableAgent, UserProxyAgent, config_list_from_json\n",
    "from autogen.retrieve_utils import TEXT_FORMATS\n",
    "import psycopg2\n",
    "from psycopg2.extras import execute_values\n",
    "from pgvector.psycopg2 import register_vector\n",
    "from autogen import AssistantAgent, ConversableAgent, UserProxyAgent"
   ]
  },
  {
   "cell_type": "markdown",
   "id": "90479f01-2020-41da-af06-5151f1e6298e",
   "metadata": {},
   "source": [
    "Reference: https://microsoft.github.io/autogen/0.2/docs/reference/agentchat/contrib/vectordb/pgvectordb"
   ]
  },
  {
   "cell_type": "code",
   "execution_count": 2,
   "id": "438f7a80-f860-4fad-b064-e29c5a05b4ba",
   "metadata": {},
   "outputs": [],
   "source": [
    "llm_config = {\n",
    "    \"config_list\": [\n",
    "        {\n",
    "            \"model\": \"gpt-4o\",\n",
    "            \"api_key\": os.getenv(\"OPENAI_API_KEY\"),\n",
    "            \"api_type\": \"azure\",\n",
    "            \"base_url\": os.getenv(\"OPENAI_API_BASE\"),\n",
    "            \"api_version\": os.getenv(\"API_VERSION\"),\n",
    "        },\n",
    "    ],\n",
    "    \"temperature\": 0.0,\n",
    "    \"timeout\": 300,\n",
    "}"
   ]
  },
  {
   "cell_type": "code",
   "execution_count": 3,
   "id": "90d28c38-245f-4f48-a7f4-3de78ed290f4",
   "metadata": {},
   "outputs": [],
   "source": [
    "def embed_openai(text: str):\n",
    "    client = AzureOpenAI(\n",
    "        api_key=os.getenv(\"OPENAI_API_KEY\"),\n",
    "        api_version=\"2024-02-01\",\n",
    "        azure_endpoint=os.getenv(\"OPENAI_API_BASE\")\n",
    "    )\n",
    "\n",
    "    response = client.embeddings.create(\n",
    "        input=text,\n",
    "        model=\"text-embedding-ada-002\"\n",
    "    )\n",
    "\n",
    "    embeddings = [np.array(embedding.embedding) for embedding in response.data]\n",
    "\n",
    "    if len(embeddings) == 1:\n",
    "        return embeddings[0]\n",
    "\n",
    "    return np.array(embeddings)"
   ]
  },
  {
   "cell_type": "code",
   "execution_count": 4,
   "id": "a4f962c2-2b09-4c28-8b76-4a95211ce76a",
   "metadata": {},
   "outputs": [
    {
     "name": "stdout",
     "output_type": "stream",
     "text": [
      "('policies',)\n",
      "Dropping table: policies\n",
      "All tables in 'public' schema have been dropped.\n"
     ]
    }
   ],
   "source": [
    "conn = psycopg2.connect(\n",
    "    dbname='test',\n",
    "    user='postgres',\n",
    "    password='test_password',\n",
    "    host='localhost',\n",
    "    port='5433'\n",
    ")\n",
    "\n",
    "cur = conn.cursor()\n",
    "\n",
    "cur.execute(\"SELECT table_name FROM information_schema.tables WHERE table_schema = 'public';\")\n",
    "tables = cur.fetchall()\n",
    "\n",
    "for table in tables:\n",
    "    print(table)\n",
    "\n",
    "for table in tables:\n",
    "    table_name = table[0]  \n",
    "    print(f\"Dropping table: {table_name}\") \n",
    "    \n",
    "    cur.execute(f\"DROP TABLE IF EXISTS {table_name} CASCADE;\")\n",
    "    conn.commit() \n",
    "\n",
    "cur.close()\n",
    "conn.close()\n",
    "\n",
    "print(\"All tables in 'public' schema have been dropped.\")"
   ]
  },
  {
   "cell_type": "markdown",
   "id": "12f2c812-40cf-4b71-963a-341c6daf460c",
   "metadata": {},
   "source": [
    "### data"
   ]
  },
  {
   "cell_type": "code",
   "execution_count": 5,
   "id": "0e6d425f-c1ec-4438-a430-acf2629665f6",
   "metadata": {},
   "outputs": [
    {
     "data": {
      "text/html": [
       "<div>\n",
       "<style scoped>\n",
       "    .dataframe tbody tr th:only-of-type {\n",
       "        vertical-align: middle;\n",
       "    }\n",
       "\n",
       "    .dataframe tbody tr th {\n",
       "        vertical-align: top;\n",
       "    }\n",
       "\n",
       "    .dataframe thead th {\n",
       "        text-align: right;\n",
       "    }\n",
       "</style>\n",
       "<table border=\"1\" class=\"dataframe\">\n",
       "  <thead>\n",
       "    <tr style=\"text-align: right;\">\n",
       "      <th></th>\n",
       "      <th>id</th>\n",
       "      <th>documents</th>\n",
       "      <th>metadatas</th>\n",
       "      <th>embedding</th>\n",
       "    </tr>\n",
       "  </thead>\n",
       "  <tbody>\n",
       "    <tr>\n",
       "      <th>0</th>\n",
       "      <td>442515</td>\n",
       "      <td>All new drivers must complete a state-approved...</td>\n",
       "      <td>Driver Education Course Requirement</td>\n",
       "      <td>[0.009563765488564968, -0.0038687754422426224,...</td>\n",
       "    </tr>\n",
       "    <tr>\n",
       "      <th>1</th>\n",
       "      <td>752565</td>\n",
       "      <td>Driver must complete a minimum of 10 hours of ...</td>\n",
       "      <td>Behind-the-Wheel Training</td>\n",
       "      <td>[-0.001858723466284573, -0.0006039661238901317...</td>\n",
       "    </tr>\n",
       "    <tr>\n",
       "      <th>2</th>\n",
       "      <td>742142</td>\n",
       "      <td>Drivers over 65 must complete a refresher cour...</td>\n",
       "      <td>License Renewal Training</td>\n",
       "      <td>[0.005323335062712431, -0.007420213893055916, ...</td>\n",
       "    </tr>\n",
       "    <tr>\n",
       "      <th>3</th>\n",
       "      <td>741265</td>\n",
       "      <td>Drivers seeking an advanced license must compl...</td>\n",
       "      <td>Advanced Driving Course</td>\n",
       "      <td>[-0.0024872892536222935, 0.004641841631382704,...</td>\n",
       "    </tr>\n",
       "    <tr>\n",
       "      <th>4</th>\n",
       "      <td>147785</td>\n",
       "      <td>Teenagers between the ages of 16-18 are requir...</td>\n",
       "      <td>Teen Driver Safety Training</td>\n",
       "      <td>[0.013322370126843452, -0.003426025155931711, ...</td>\n",
       "    </tr>\n",
       "  </tbody>\n",
       "</table>\n",
       "</div>"
      ],
      "text/plain": [
       "       id                                          documents  \\\n",
       "0  442515  All new drivers must complete a state-approved...   \n",
       "1  752565  Driver must complete a minimum of 10 hours of ...   \n",
       "2  742142  Drivers over 65 must complete a refresher cour...   \n",
       "3  741265  Drivers seeking an advanced license must compl...   \n",
       "4  147785  Teenagers between the ages of 16-18 are requir...   \n",
       "\n",
       "                             metadatas  \\\n",
       "0  Driver Education Course Requirement   \n",
       "1            Behind-the-Wheel Training   \n",
       "2             License Renewal Training   \n",
       "3              Advanced Driving Course   \n",
       "4          Teen Driver Safety Training   \n",
       "\n",
       "                                           embedding  \n",
       "0  [0.009563765488564968, -0.0038687754422426224,...  \n",
       "1  [-0.001858723466284573, -0.0006039661238901317...  \n",
       "2  [0.005323335062712431, -0.007420213893055916, ...  \n",
       "3  [-0.0024872892536222935, 0.004641841631382704,...  \n",
       "4  [0.013322370126843452, -0.003426025155931711, ...  "
      ]
     },
     "metadata": {},
     "output_type": "display_data"
    }
   ],
   "source": [
    "data = {\n",
    "    \"id\": ['442515', '752565', '742142', '741265', '147785'],\n",
    "    \"documents\": [\n",
    "        'All new drivers must complete a state-approved education course that covers traffic laws, signs, and safe driving practices.',\n",
    "        'Driver must complete a minimum of 10 hours of behind-the-wheel driving instruction with a licensed instructor.',\n",
    "        'Drivers over 65 must complete a refresher course to renew their driver license, focusing on changes in road safety and laws.',\n",
    "        'Drivers seeking an advanced license must complete a defensive driving course to improve skills in handling challenging road conditions.',\n",
    "        'Teenagers between the ages of 16-18 are required to complete a state-certified driver safety course before obtaining a license.'\n",
    "    ],\n",
    "    \"metadatas\": [\n",
    "        'Driver Education Course Requirement', \n",
    "        'Behind-the-Wheel Training', \n",
    "        'License Renewal Training', \n",
    "        'Advanced Driving Course', \n",
    "        'Teen Driver Safety Training'\n",
    "    ]\n",
    "}\n",
    "\n",
    "df = pd.DataFrame(data)\n",
    "\n",
    "df['embedding'] = df[\"documents\"].apply(lambda x: embed_openai(x)) \n",
    "\n",
    "display(df.head())"
   ]
  },
  {
   "cell_type": "code",
   "execution_count": 6,
   "id": "fe5856e1-4600-4114-94fb-3e6312e4b085",
   "metadata": {},
   "outputs": [
    {
     "name": "stdout",
     "output_type": "stream",
     "text": [
      "5 rows inserted or updated successfully.\n"
     ]
    }
   ],
   "source": [
    "conn = psycopg2.connect(\n",
    "    dbname='test',\n",
    "    user='postgres',\n",
    "    password='test_password',\n",
    "    host='localhost',\n",
    "    port='5433'\n",
    ")\n",
    "\n",
    "cur = conn.cursor()\n",
    "\n",
    "cur.execute(\"CREATE EXTENSION IF NOT EXISTS vector\")\n",
    "conn.commit()\n",
    "\n",
    "data_list = [\n",
    "    (\n",
    "        row['id'], \n",
    "        row['documents'], \n",
    "        row['metadatas'], \n",
    "        row['embedding'].tolist() if isinstance(row['embedding'], np.ndarray) else row['embedding']\n",
    "    )\n",
    "    for index, row in df.iterrows()\n",
    "]\n",
    "\n",
    "create_table_query = \"\"\"\n",
    "CREATE TABLE IF NOT EXISTS policies (\n",
    "    id TEXT PRIMARY KEY, \n",
    "    documents TEXT,\n",
    "    metadatas TEXT,  \n",
    "    embedding vector(1536)  -- Adjust the size to match your model's embedding dimensions\n",
    ");\n",
    "\"\"\"\n",
    "\n",
    "cur.execute(create_table_query)\n",
    "conn.commit()\n",
    "\n",
    "insert_query = \"\"\"\n",
    "INSERT INTO policies (id, documents, metadatas, embedding) \n",
    "VALUES %s\n",
    "ON CONFLICT (id) DO UPDATE \n",
    "SET documents = EXCLUDED.documents,\n",
    "    metadatas = EXCLUDED.metadatas,\n",
    "    embedding = EXCLUDED.embedding;\n",
    "\"\"\"\n",
    "\n",
    "execute_values(cur, insert_query, data_list)\n",
    "\n",
    "conn.commit()\n",
    "\n",
    "cur.close()\n",
    "conn.close()\n",
    "\n",
    "print(f\"{len(data_list)} rows inserted or updated successfully.\")"
   ]
  },
  {
   "cell_type": "code",
   "execution_count": 7,
   "id": "3694c285-e3fb-4765-91a8-480713698ed3",
   "metadata": {},
   "outputs": [],
   "source": [
    "def get_closest_doc(text: str) -> str:\n",
    "    client = AzureOpenAI(\n",
    "        api_key=os.getenv(\"OPENAI_API_KEY\"),\n",
    "        api_version=\"2024-02-01\",\n",
    "        azure_endpoint=os.getenv(\"OPENAI_API_BASE\")\n",
    "    )\n",
    "\n",
    "    embedding_response = client.embeddings.create(\n",
    "        input=text, model=\"text-embedding-ada-002\"\n",
    "    )\n",
    "    embedding = json.loads(embedding_response.model_dump_json(indent=2))[\"data\"][0][\"embedding\"]\n",
    "\n",
    "    psql = psycopg2.connect(\n",
    "        dbname=os.getenv(\"MYPOSTGRES_DATABASE\"),\n",
    "        user=os.getenv(\"MYPOSTGRES_USER\"),\n",
    "        password=\"test_password\",\n",
    "        host=os.getenv(\"MYPOSTGRES_HOST\"),\n",
    "        port=os.getenv(\"MYPOSTGRES_PORT\")\n",
    "    )\n",
    "\n",
    "    register_vector(psql)\n",
    "\n",
    "    conditional_query = \"\"\"\n",
    "        SELECT documents, metadatas\n",
    "        FROM policies\n",
    "        ORDER BY embedding <=> %s\n",
    "        LIMIT 3;\n",
    "    \"\"\"\n",
    "\n",
    "    cursor = psql.cursor()\n",
    "    cursor.execute(conditional_query, (np.array(embedding),))\n",
    "    top3_docs = cursor.fetchall()\n",
    "\n",
    "    cursor.close()\n",
    "    psql.close()\n",
    "\n",
    "    numbered_docs = {str(i + 1): {'title': doc[1], 'content': doc[0]} for i, doc in enumerate(top3_docs)}\n",
    "\n",
    "    return json.dumps(numbered_docs, indent=2)"
   ]
  },
  {
   "cell_type": "code",
   "execution_count": 8,
   "id": "96a214d6-f070-46e8-b423-d29f3d480b1f",
   "metadata": {},
   "outputs": [
    {
     "name": "stdout",
     "output_type": "stream",
     "text": [
      "{\n",
      "  \"1\": {\n",
      "    \"title\": \"Teen Driver Safety Training\",\n",
      "    \"content\": \"Teenagers between the ages of 16-18 are required to complete a state-certified driver safety course before obtaining a license.\"\n",
      "  },\n",
      "  \"2\": {\n",
      "    \"title\": \"Driver Education Course Requirement\",\n",
      "    \"content\": \"All new drivers must complete a state-approved education course that covers traffic laws, signs, and safe driving practices.\"\n",
      "  },\n",
      "  \"3\": {\n",
      "    \"title\": \"Advanced Driving Course\",\n",
      "    \"content\": \"Drivers seeking an advanced license must complete a defensive driving course to improve skills in handling challenging road conditions.\"\n",
      "  }\n",
      "}\n"
     ]
    }
   ],
   "source": [
    "print(get_closest_doc(\"Who should complete a state-certified driver safety course\"))"
   ]
  },
  {
   "cell_type": "markdown",
   "id": "d52e1d36-8ce8-43a8-8ae6-8d88ceca3729",
   "metadata": {},
   "source": [
    "### PGVector RAG Agent"
   ]
  },
  {
   "cell_type": "code",
   "execution_count": 9,
   "id": "f6de1207-d08c-4943-9975-215c2849b605",
   "metadata": {},
   "outputs": [],
   "source": [
    "policy_expert_message = \" \".join(\"\"\"\n",
    "    You are a regulatory expert with access to a database of the policies.\n",
    "    You are going to take a query, and use the tool get_closest_doc`\n",
    "    which take a string argument, and return a list of strings with 3 documents\n",
    "    of policies on the database. You are meant to format it as follows\n",
    "    numbered_docs = {str(i + 1): {'title': doc[1], 'content': doc[0]} for i, doc in enumerate(top3_docs)}\n",
    "    return json.dumps(numbered_docs, indent=2)\n",
    "\"\"\".split())\n",
    "\n",
    "policy_expert_agent = ConversableAgent(\n",
    "    name=\"PolicyExpert\",\n",
    "    system_message=policy_expert_message,\n",
    "    llm_config=llm_config,\n",
    "    human_input_mode= \"NEVER\",\n",
    ")"
   ]
  },
  {
   "cell_type": "code",
   "execution_count": 10,
   "id": "8624c576-cb70-49b1-a2c0-cca4ae0ec725",
   "metadata": {},
   "outputs": [],
   "source": [
    "user = ConversableAgent(\n",
    "    name=\"user\",\n",
    "    system_message= \"You are asking questions to your assistants and reporting back in a detailed tone.\",\n",
    "    llm_config=llm_config,\n",
    "    human_input_mode= \"NEVER\",\n",
    ")"
   ]
  },
  {
   "cell_type": "markdown",
   "id": "77fff190-dabb-4d6f-ab1e-0a733f0aafb9",
   "metadata": {},
   "source": [
    "### Registering Tools"
   ]
  },
  {
   "cell_type": "code",
   "execution_count": 11,
   "id": "59992b36-7534-4259-b76b-2e8a57dbb49d",
   "metadata": {},
   "outputs": [
    {
     "data": {
      "text/plain": [
       "<function __main__.get_closest_doc(text: str) -> str>"
      ]
     },
     "execution_count": 11,
     "metadata": {},
     "output_type": "execute_result"
    }
   ],
   "source": [
    "policy_expert_agent.register_for_llm(\n",
    "    name=\"get_closest_doc\", \n",
    "    description=\"Gets a list of documents of policies related to the user query.\"\n",
    ")(get_closest_doc)"
   ]
  },
  {
   "cell_type": "code",
   "execution_count": 12,
   "id": "8a281427-7f65-4cce-88ee-1070d4e84539",
   "metadata": {},
   "outputs": [
    {
     "data": {
      "text/plain": [
       "<function __main__.get_closest_doc(text: str) -> str>"
      ]
     },
     "execution_count": 12,
     "metadata": {},
     "output_type": "execute_result"
    }
   ],
   "source": [
    "user.register_for_execution(\n",
    "        name=\"get_closest_doc\", \n",
    ")(get_closest_doc)"
   ]
  },
  {
   "cell_type": "markdown",
   "id": "16fc856f-5482-4123-b9bb-dabcf31a8319",
   "metadata": {},
   "source": [
    "### User Query"
   ]
  },
  {
   "cell_type": "code",
   "execution_count": 13,
   "id": "9e235919-5219-431e-92f7-ff99c73c5ea9",
   "metadata": {},
   "outputs": [],
   "source": [
    "user_query = \"What policies apply to 16-year-olds?\""
   ]
  },
  {
   "cell_type": "code",
   "execution_count": 14,
   "id": "8222ea98-a29c-45a2-ac66-68a1c1988e57",
   "metadata": {},
   "outputs": [
    {
     "name": "stdout",
     "output_type": "stream",
     "text": [
      "\u001b[34m\n",
      "********************************************************************************\u001b[0m\n",
      "\u001b[34mStarting a new chat....\u001b[0m\n",
      "\u001b[34m\n",
      "********************************************************************************\u001b[0m\n",
      "\u001b[33muser\u001b[0m (to PolicyExpert):\n",
      "\n",
      "What policies apply to 16-year-olds?\n",
      "\n",
      "--------------------------------------------------------------------------------\n",
      "\u001b[33mPolicyExpert\u001b[0m (to user):\n",
      "\n",
      "\u001b[32m***** Suggested tool call (call_TbLOBYsB2VDPWAtW6zDVjoYp): get_closest_doc *****\u001b[0m\n",
      "Arguments: \n",
      "{\"text\":\"policies for 16-year-olds\"}\n",
      "\u001b[32m********************************************************************************\u001b[0m\n",
      "\n",
      "--------------------------------------------------------------------------------\n",
      "\u001b[35m\n",
      ">>>>>>>> EXECUTING FUNCTION get_closest_doc...\u001b[0m\n",
      "\u001b[33muser\u001b[0m (to PolicyExpert):\n",
      "\n",
      "\u001b[33muser\u001b[0m (to PolicyExpert):\n",
      "\n",
      "\u001b[32m***** Response from calling tool (call_TbLOBYsB2VDPWAtW6zDVjoYp) *****\u001b[0m\n",
      "{\n",
      "  \"1\": {\n",
      "    \"title\": \"Teen Driver Safety Training\",\n",
      "    \"content\": \"Teenagers between the ages of 16-18 are required to complete a state-certified driver safety course before obtaining a license.\"\n",
      "  },\n",
      "  \"2\": {\n",
      "    \"title\": \"License Renewal Training\",\n",
      "    \"content\": \"Drivers over 65 must complete a refresher course to renew their driver license, focusing on changes in road safety and laws.\"\n",
      "  },\n",
      "  \"3\": {\n",
      "    \"title\": \"Driver Education Course Requirement\",\n",
      "    \"content\": \"All new drivers must complete a state-approved education course that covers traffic laws, signs, and safe driving practices.\"\n",
      "  }\n",
      "}\n",
      "\u001b[32m**********************************************************************\u001b[0m\n",
      "\n",
      "--------------------------------------------------------------------------------\n",
      "\u001b[33mPolicyExpert\u001b[0m (to user):\n",
      "\n",
      "```json\n",
      "{\n",
      "  \"1\": {\n",
      "    \"title\": \"Teen Driver Safety Training\",\n",
      "    \"content\": \"Teenagers between the ages of 16-18 are required to complete a state-certified driver safety course before obtaining a license.\"\n",
      "  },\n",
      "  \"2\": {\n",
      "    \"title\": \"License Renewal Training\",\n",
      "    \"content\": \"Drivers over 65 must complete a refresher course to renew their driver license, focusing on changes in road safety and laws.\"\n",
      "  },\n",
      "  \"3\": {\n",
      "    \"title\": \"Driver Education Course Requirement\",\n",
      "    \"content\": \"All new drivers must complete a state-approved education course that covers traffic laws, signs, and safe driving practices.\"\n",
      "  }\n",
      "}\n",
      "```\n",
      "\n",
      "--------------------------------------------------------------------------------\n",
      "\u001b[33muser\u001b[0m (to PolicyExpert):\n",
      "\n",
      "Based on the provided information, here are the policies that apply to 16-year-olds:\n",
      "\n",
      "1. **Teen Driver Safety Training**:\n",
      "   - Teenagers between the ages of 16-18 are required to complete a state-certified driver safety course before obtaining a license. This course is designed to ensure that young drivers are well-versed in safe driving practices and understand the traffic laws.\n",
      "\n",
      "2. **Driver Education Course Requirement**:\n",
      "   - All new drivers, including 16-year-olds, must complete a state-approved education course. This course covers essential topics such as traffic laws, road signs, and safe driving practices. It is a prerequisite for obtaining a driver's license.\n",
      "\n",
      "These policies are aimed at ensuring that young drivers are adequately prepared and knowledgeable about safe driving practices before they are allowed to drive independently.\n",
      "\n",
      "--------------------------------------------------------------------------------\n",
      "\u001b[33mPolicyExpert\u001b[0m (to user):\n",
      "\n",
      "Yes, you are correct. The policies that apply to 16-year-olds based on the provided information are:\n",
      "\n",
      "1. **Teen Driver Safety Training**:\n",
      "   - Teenagers between the ages of 16-18 are required to complete a state-certified driver safety course before obtaining a license. This course is designed to ensure that young drivers are well-versed in safe driving practices and understand the traffic laws.\n",
      "\n",
      "2. **Driver Education Course Requirement**:\n",
      "   - All new drivers, including 16-year-olds, must complete a state-approved education course. This course covers essential topics such as traffic laws, road signs, and safe driving practices. It is a prerequisite for obtaining a driver's license.\n",
      "\n",
      "These policies are aimed at ensuring that young drivers are adequately prepared and knowledgeable about safe driving practices before they are allowed to drive independently.\n",
      "\n",
      "--------------------------------------------------------------------------------\n"
     ]
    }
   ],
   "source": [
    "chat_results = user.initiate_chats(\n",
    "    [\n",
    "        {\n",
    "            \"recipient\": policy_expert_agent,\n",
    "            \"message\": user_query,\n",
    "            \"max_turns\": 3,\n",
    "            \"summary_method\": \"last_msg\",\n",
    "        }\n",
    "    ]\n",
    ")"
   ]
  }
 ],
 "metadata": {
  "kernelspec": {
   "display_name": "Python 3 (ipykernel)",
   "language": "python",
   "name": "python3"
  },
  "language_info": {
   "codemirror_mode": {
    "name": "ipython",
    "version": 3
   },
   "file_extension": ".py",
   "mimetype": "text/x-python",
   "name": "python",
   "nbconvert_exporter": "python",
   "pygments_lexer": "ipython3",
   "version": "3.12.4"
  }
 },
 "nbformat": 4,
 "nbformat_minor": 5
}
